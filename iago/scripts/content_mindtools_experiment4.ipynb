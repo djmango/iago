{
 "cells": [
  {
   "cell_type": "markdown",
   "metadata": {},
   "source": [
    "This experiment is a title search method variation of the previous experiment. This means that the skill name must be in the title of the content."
   ]
  },
  {
   "cell_type": "code",
   "execution_count": 24,
   "metadata": {},
   "outputs": [],
   "source": [
    "import header\n",
    "\n",
    "import random\n",
    "import json\n",
    "import numpy as np\n",
    "import pandas as pd\n",
    "from django.db import transaction\n",
    "from django.db.models import Q\n",
    "from tqdm import tqdm\n",
    "from v0.models import Content, MindtoolsSkillGroup"
   ]
  },
  {
   "cell_type": "code",
   "execution_count": 33,
   "metadata": {},
   "outputs": [],
   "source": [
    "# df = pd.DataFrame(columns=['title'])\n",
    "skill_group_pks = list(MindtoolsSkillGroup.objects.all().values_list('pk', flat=True))\n",
    "\n",
    "# Add the skill groups as columns to store the similarity scores\n",
    "# df = pd.DataFrame(columns=skill_group_pks)\n",
    "# print(list(df.columns))"
   ]
  },
  {
   "cell_type": "code",
   "execution_count": 36,
   "metadata": {},
   "outputs": [
    {
     "name": "stdout",
     "output_type": "stream",
     "text": [
      "Time Management (Time Management): 2\n",
      "Stress Management (Stress Management): 0\n",
      "Creativity Tools (Creativity Tools): 0\n",
      "Project Management (Project Management): 2\n",
      "Strategy Tools (Strategy Tools): 0\n",
      "Team Management (Team Management): 0\n",
      "Career Skills (Career): 23\n",
      "Communication Skills (Communication): 10\n",
      "Decision Making (Decision Making): 9\n",
      "Problem Solving (Problem Solving): 0\n",
      "Learning Skills (Learning): 28\n"
     ]
    }
   ],
   "source": [
    "# For each mindtool skill, compute the title similarity of all content\n",
    "# content = Content.objects.exclude(embedding_all_mpnet_base_v2__isnull=True).filter(~Q(provider='medium') | (Q(provider='medium') & Q(popularity__medium__totalClapCount__gt=200)))\n",
    "content = Content.objects.filter(provider='hbr')\n",
    "\n",
    "results = []\n",
    "\n",
    "for skill_group_pk in skill_group_pks:\n",
    "    skill_name_cleaned = str(skill_group_pk).replace('Skills', '').strip()\n",
    "    hits = content.filter(title__icontains=skill_name_cleaned)\n",
    "    print(f'{skill_group_pk} ({skill_name_cleaned}): {hits.count()}')\n",
    "    results.append(pd.Series((hits.values_list('title', flat=True)), dtype=object))\n",
    "\n",
    "df = pd.concat(results, axis=1)\n",
    "df.columns = skill_group_pks\n",
    "\n",
    "df.to_excel('data/mindtools_experiments/content_mindtools_experiment_exact_title.xlsx', index=False)"
   ]
  }
 ],
 "metadata": {
  "kernelspec": {
   "display_name": "Python 3.10.5 ('jeeny')",
   "language": "python",
   "name": "python3"
  },
  "language_info": {
   "codemirror_mode": {
    "name": "ipython",
    "version": 3
   },
   "file_extension": ".py",
   "mimetype": "text/x-python",
   "name": "python",
   "nbconvert_exporter": "python",
   "pygments_lexer": "ipython3",
   "version": "3.10.5"
  },
  "orig_nbformat": 4,
  "vscode": {
   "interpreter": {
    "hash": "f65747007422fc81442191dbdb03a12c20c5af11985cea41d471a918ee4e30a8"
   }
  }
 },
 "nbformat": 4,
 "nbformat_minor": 2
}

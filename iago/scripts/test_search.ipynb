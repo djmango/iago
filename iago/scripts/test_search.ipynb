{
 "cells": [
  {
   "cell_type": "code",
   "execution_count": 1,
   "metadata": {},
   "outputs": [
    {
     "name": "stdout",
     "output_type": "stream",
     "text": [
      "DJANGO SETTINGS IN DEBUG\n",
      "[v0.index] 2022-08-25 14:33:49,771 INFO MainThread [index:init_indexes:169] | Initializing indexes..\n",
      "[v0.index] 2022-08-25 14:34:07,644 INFO MainThread [index:init_indexes:196] | No indexes to build\n"
     ]
    }
   ],
   "source": [
    "import header\n",
    "\n",
    "import numpy as np\n",
    "from tqdm import tqdm\n",
    "from v0.models import Skill\n",
    "from v0.ai import embedding_model\n",
    "from v0.index import skills_index"
   ]
  },
  {
   "cell_type": "code",
   "execution_count": 2,
   "metadata": {},
   "outputs": [
    {
     "name": "stdout",
     "output_type": "stream",
     "text": [
      "[v0.VectorIndex_Skill] 2022-08-25 14:35:14,016 INFO MainThread [index:_generate_index:46] | Generated index for Skill with a total of 38429 vectors in 66.1638s\n"
     ]
    }
   ],
   "source": [
    "# init index\n",
    "skills_index._generate_index()"
   ]
  },
  {
   "cell_type": "code",
   "execution_count": 3,
   "metadata": {},
   "outputs": [
    {
     "name": "stdout",
     "output_type": "stream",
     "text": [
      "[v0.ai] 2022-08-25 14:35:14,339 INFO MainThread [ai:encode:51] | Embedder got 200/200 from cache in 0.225s\n"
     ]
    },
    {
     "name": "stderr",
     "output_type": "stream",
     "text": [
      "100%|██████████| 200/200 [00:35<00:00,  5.67it/s]\n"
     ]
    }
   ],
   "source": [
    "\n",
    "our_skils = list(Skill.objects.all()[:200].values_list('name', flat=True))\n",
    "\n",
    "query_vectors = embedding_model.encode(our_skils, show_progress_bar=True).astype(np.float32)\n",
    "\n",
    "all_rankings = []\n",
    "\n",
    "for query_vector in tqdm(query_vectors):\n",
    "    skills, rankings, query_vector = skills_index.query(query_vector, k=50)\n",
    "    all_rankings.append(rankings)\n"
   ]
  }
 ],
 "metadata": {
  "kernelspec": {
   "display_name": "Python 3.10.5 ('jeeny')",
   "language": "python",
   "name": "python3"
  },
  "language_info": {
   "codemirror_mode": {
    "name": "ipython",
    "version": 3
   },
   "file_extension": ".py",
   "mimetype": "text/x-python",
   "name": "python",
   "nbconvert_exporter": "python",
   "pygments_lexer": "ipython3",
   "version": "3.10.5"
  },
  "orig_nbformat": 4,
  "vscode": {
   "interpreter": {
    "hash": "f65747007422fc81442191dbdb03a12c20c5af11985cea41d471a918ee4e30a8"
   }
  }
 },
 "nbformat": 4,
 "nbformat_minor": 2
}

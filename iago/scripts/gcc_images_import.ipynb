{
 "cells": [
  {
   "cell_type": "code",
   "execution_count": null,
   "metadata": {},
   "outputs": [],
   "source": [
    "import header\n",
    "\n",
    "from multiprocessing.pool import ThreadPool\n",
    "from pathlib import Path\n",
    "\n",
    "import pandas as pd\n",
    "import numpy as np\n",
    "import os\n",
    "import requests\n",
    "import tldextract\n",
    "from v0.ai import embedding_model\n",
    "from v0.models import Image\n",
    "\n",
    "\n",
    "FILE = Path('data/gcc/validation.tsv')\n",
    "\n",
    "if not FILE.is_file():\n",
    "    raise FileNotFoundError(f'{FILE} not found')\n"
   ]
  },
  {
   "cell_type": "code",
   "execution_count": null,
   "metadata": {},
   "outputs": [],
   "source": [
    "images = pd.read_csv(FILE, sep='\\t', header=None, names=['label', 'url'])\n",
    "print(images.head())\n",
    "\n",
    "# filter to ones we havent done yet\n",
    "os.environ[\"DJANGO_ALLOW_ASYNC_UNSAFE\"] = \"true\"\n",
    "done_urls = list(Image.objects.all().values_list('url', flat=True))\n",
    "print(len(done_urls))\n",
    "\n",
    "images = images.drop(images[images.url.isin(done_urls)].index)\n",
    "print(len(images))"
   ]
  },
  {
   "cell_type": "code",
   "execution_count": null,
   "metadata": {},
   "outputs": [],
   "source": [
    "# embeddings\n",
    "embeds = np.array(embedding_model.model.encode(images['label'].to_list())).astype(np.float32)\n",
    "images['embed'] = embeds.tolist()"
   ]
  },
  {
   "cell_type": "code",
   "execution_count": null,
   "metadata": {},
   "outputs": [],
   "source": [
    "\n",
    "def process_image(i_image):\n",
    "    i, image = i_image\n",
    "    try:\n",
    "        image_model = Image()\n",
    "        image_model.url = image['url']\n",
    "        image_model.description = image['label']\n",
    "        image_model.embedding_all_mpnet_base_v2 = image['embed']\n",
    "        image_model.domain = tldextract.extract(image['url']).domain\n",
    "        image_model.provider = Image.providers.GCC_DATASET\n",
    "\n",
    "        # validate the image is alive\n",
    "        r = requests.head(image['url'], timeout=1)\n",
    "        if r.status_code != 200:\n",
    "            image_model.url_alive = False\n",
    "        image_model.save()\n",
    "        return\n",
    "    except Exception as e:\n",
    "        print(e)\n",
    "\n",
    "# for i, image in images.iterrows(): \n",
    "#     process_image((i, image))\n",
    "#     print(i)\n",
    "pool = ThreadPool(processes=16)\n",
    "pool.map(process_image, images.iterrows())"
   ]
  }
 ],
 "metadata": {
  "interpreter": {
   "hash": "f65747007422fc81442191dbdb03a12c20c5af11985cea41d471a918ee4e30a8"
  },
  "kernelspec": {
   "display_name": "Python 3.9.10 ('jeeny')",
   "language": "python",
   "name": "python3"
  },
  "language_info": {
   "codemirror_mode": {
    "name": "ipython",
    "version": 3
   },
   "file_extension": ".py",
   "mimetype": "text/x-python",
   "name": "python",
   "nbconvert_exporter": "python",
   "pygments_lexer": "ipython3",
   "version": "3.10.5"
  },
  "orig_nbformat": 4
 },
 "nbformat": 4,
 "nbformat_minor": 2
}

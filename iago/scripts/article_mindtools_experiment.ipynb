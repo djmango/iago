{
 "cells": [
  {
   "cell_type": "code",
   "execution_count": 6,
   "metadata": {},
   "outputs": [],
   "source": [
    "import header\n",
    "from v0.models import MindtoolsSkillGroup, MindtoolsSkillSubgroup, Content\n",
    "from v0.index import VectorIndex\n",
    "import pandas as pd\n",
    "from tqdm import tqdm\n",
    "import random"
   ]
  },
  {
   "cell_type": "code",
   "execution_count": 7,
   "metadata": {},
   "outputs": [],
   "source": [
    "# get 10 random content\n",
    "random_pks = random.sample(list(Content.objects.all().values_list('pk', flat=True)), 10)\n",
    "contents = Content.objects.filter(pk__in=random_pks)"
   ]
  },
  {
   "cell_type": "code",
   "execution_count": 8,
   "metadata": {},
   "outputs": [
    {
     "name": "stdout",
     "output_type": "stream",
     "text": [
      "[v0.VectorIndex_MindtoolsSkillSubgroup] 2022-07-20 11:15:57,887 INFO MainThread [index:_generate_index:47] | Generated index with a total of 87 vectors in 0.262s\n"
     ]
    }
   ],
   "source": [
    "# generate index\n",
    "index = VectorIndex(MindtoolsSkillSubgroup.objects.all())"
   ]
  },
  {
   "cell_type": "code",
   "execution_count": 16,
   "metadata": {},
   "outputs": [
    {
     "name": "stderr",
     "output_type": "stream",
     "text": [
      "100%|██████████| 10/10 [00:02<00:00,  3.81it/s]\n"
     ]
    }
   ],
   "source": [
    "output = pd.DataFrame(columns=['content_title', 'content_url', 'MindtoolsSkillGroups', 'MindtoolsSkillSubgroups'])\n",
    "\n",
    "for i, content in tqdm(enumerate(contents.iterator()), total=contents.count()):\n",
    "    # get the top_k skills for the content\n",
    "    results, rankings, query_vector = index.query(content.embedding_all_mpnet_base_v2, k=5)\n",
    "\n",
    "    # perform transaction\n",
    "    results: list[MindtoolsSkillSubgroup] = list(results)\n",
    "\n",
    "    # add to output\n",
    "    output.loc[i] = [content.title, content.url, ', '.join(list(set([str(x.group) for x in results]))), ', '.join([str(x) for x in results])]\n",
    "\n",
    "output.to_csv('article_mindtools_experiment.csv', index=False)"
   ]
  }
 ],
 "metadata": {
  "kernelspec": {
   "display_name": "Python 3.10.5 ('jeeny')",
   "language": "python",
   "name": "python3"
  },
  "language_info": {
   "codemirror_mode": {
    "name": "ipython",
    "version": 3
   },
   "file_extension": ".py",
   "mimetype": "text/x-python",
   "name": "python",
   "nbconvert_exporter": "python",
   "pygments_lexer": "ipython3",
   "version": "3.10.5"
  },
  "orig_nbformat": 4,
  "vscode": {
   "interpreter": {
    "hash": "f65747007422fc81442191dbdb03a12c20c5af11985cea41d471a918ee4e30a8"
   }
  }
 },
 "nbformat": 4,
 "nbformat_minor": 2
}

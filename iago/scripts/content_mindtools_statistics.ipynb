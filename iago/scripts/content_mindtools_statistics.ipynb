{
 "cells": [
  {
   "cell_type": "code",
   "execution_count": 1,
   "metadata": {},
   "outputs": [
    {
     "name": "stdout",
     "output_type": "stream",
     "text": [
      "DJANGO SETTINGS IN DEBUG\n",
      "[v0.index] 2022-08-19 11:48:26,160 INFO MainThread [index:init_indexes:167] | Initializing indexes..\n",
      "[v0.index] 2022-08-19 11:48:27,110 INFO MainThread [index:init_indexes:195] | No indexes to build\n"
     ]
    }
   ],
   "source": [
    "import header\n",
    "\n",
    "import random\n",
    "import numpy as np\n",
    "import pandas as pd\n",
    "from django.db import transaction\n",
    "from tqdm import tqdm\n",
    "from v0.index import VectorIndex\n",
    "from v0.models import Content, MindtoolsSkillGroup, MindtoolsSkillSubgroup"
   ]
  },
  {
   "cell_type": "code",
   "execution_count": 2,
   "metadata": {},
   "outputs": [
    {
     "name": "stdout",
     "output_type": "stream",
     "text": [
      "[v0.VectorIndex_MindtoolsSkillSubgroup] 2022-08-19 11:48:27,728 INFO MainThread [index:_generate_index:46] | Generated index for MindtoolsSkillSubgroup with a total of 87 vectors in 0.1984s\n",
      "[v0.VectorIndex_MindtoolsSkillGroup] 2022-08-19 11:48:27,786 INFO MainThread [index:_generate_index:46] | Generated index for MindtoolsSkillGroup with a total of 11 vectors in 0.033s\n"
     ]
    }
   ],
   "source": [
    "# generate index\n",
    "skill_subgroup_index = VectorIndex(MindtoolsSkillSubgroup.objects.all())\n",
    "skill_group_index = VectorIndex(MindtoolsSkillGroup.objects.all())"
   ]
  },
  {
   "cell_type": "code",
   "execution_count": 3,
   "metadata": {},
   "outputs": [
    {
     "name": "stdout",
     "output_type": "stream",
     "text": [
      "59717\n"
     ]
    }
   ],
   "source": [
    "contents = list(Content.objects.exclude(embedding_all_mpnet_base_v2__isnull=True).values_list('pk', 'embedding_all_mpnet_base_v2'))\n",
    "content_pks, content_embeddings = zip(*contents)\n",
    "print(len(contents))"
   ]
  },
  {
   "cell_type": "code",
   "execution_count": 7,
   "metadata": {},
   "outputs": [],
   "source": [
    "# Do the actual matching batched, much faster\n",
    "query_vectors = np.array([np.array(x[1]).astype(np.float32) for x in contents]).astype(np.float32)\n",
    "similarity_values, indices = skill_group_index.index.search(query_vectors, k=1)\n",
    "skill_group_results_pk = [skill_group_index.pks[indice[0]] for indice in indices]\n",
    "skill_group_results_value = [value[0] for value in similarity_values]"
   ]
  },
  {
   "cell_type": "code",
   "execution_count": 8,
   "metadata": {},
   "outputs": [],
   "source": [
    "# we want to do the analysis by skill group, so we need to group by skill group\n",
    "skill_group_pks = list(MindtoolsSkillGroup.objects.all().values_list('pk', flat=True))\n",
    "results_grouped = dict.fromkeys(skill_group_pks)\n",
    "\n",
    "df = pd.DataFrame(columns=['mindtools_skill_group', 'similarities', 'content_pks', 'count'])\n",
    "\n",
    "for skill_group_pk in skill_group_pks:\n",
    "    # Do the grouping\n",
    "    # essentially we are iterating over the results, which are pairs of indices and the pk of the group it got matched to,\n",
    "    # then seeing if the pk of the group is the same as the current group we are looking at, if it is, we add the pk of the article to the pks_in_group list\n",
    "    pks_in_group, similarity_values_in_group = zip(*[(content_pks[i], similarity_values[i][0])  for i, skill_group in enumerate(skill_group_results_pk) if skill_group == skill_group_pk])\n",
    "    results_grouped[skill_group_pk] = pks_in_group\n",
    "    df.loc[skill_group_pk] = [skill_group_pk, pd.Series(similarity_values_in_group), pks_in_group, len(pks_in_group)]"
   ]
  },
  {
   "cell_type": "code",
   "execution_count": 9,
   "metadata": {},
   "outputs": [],
   "source": [
    " # clear memory\n",
    "del query_vectors\n",
    "del skill_group_results_pk\n",
    "del skill_group_results_value\n",
    "del contents\n",
    "del content_pks\n",
    "del content_embeddings"
   ]
  },
  {
   "cell_type": "code",
   "execution_count": 11,
   "metadata": {},
   "outputs": [
    {
     "name": "stdout",
     "output_type": "stream",
     "text": [
      "                   mindtools_skill_group  \\\n",
      "Time Management          Time Management   \n",
      "Stress Management      Stress Management   \n",
      "Creativity Tools        Creativity Tools   \n",
      "Project Management    Project Management   \n",
      "Strategy Tools            Strategy Tools   \n",
      "\n",
      "                                                         similarities  \\\n",
      "Time Management     0       0.313193\n",
      "1       0.198143\n",
      "2       0.05...   \n",
      "Stress Management   0       0.153420\n",
      "1       0.211083\n",
      "2       0.23...   \n",
      "Creativity Tools    0       0.426946\n",
      "1       0.229233\n",
      "2       0.28...   \n",
      "Project Management  0       0.502471\n",
      "1       0.329220\n",
      "2       0.06...   \n",
      "Strategy Tools      0       0.116625\n",
      "1       0.251954\n",
      "2       0.12...   \n",
      "\n",
      "                                                          content_pks  count  \n",
      "Time Management     (67f171ad-c1ea-41c8-9ae7-34b8385f5b60, 2523a77...   5402  \n",
      "Stress Management   (13713cfa-1ed4-4dcd-8ab1-0bbf2013d216, 08b24dd...   2120  \n",
      "Creativity Tools    (0cf3d410-baf7-488f-9b99-6c31125a3b72, ccb21f0...   6482  \n",
      "Project Management  (859f691b-494c-48d2-8db5-8524befcfe81, bb8c373...   4681  \n",
      "Strategy Tools      (374d06a3-25b8-47fb-92bc-ee40d5885d2d, 7475bd0...   7144  \n"
     ]
    },
    {
     "ename": "TypeError",
     "evalue": "no numeric data to plot",
     "output_type": "error",
     "traceback": [
      "\u001b[0;31m---------------------------------------------------------------------------\u001b[0m",
      "\u001b[0;31mTypeError\u001b[0m                                 Traceback (most recent call last)",
      "\u001b[1;32m/Users/djmango/github/jeeny/iago/iago/scripts/content_mindtools_statistics.ipynb Cell 7\u001b[0m in \u001b[0;36m<cell line: 3>\u001b[0;34m()\u001b[0m\n\u001b[1;32m      <a href='vscode-notebook-cell:/Users/djmango/github/jeeny/iago/iago/scripts/content_mindtools_statistics.ipynb#W6sZmlsZQ%3D%3D?line=0'>1</a>\u001b[0m \u001b[39mprint\u001b[39m(df\u001b[39m.\u001b[39mhead())\n\u001b[1;32m      <a href='vscode-notebook-cell:/Users/djmango/github/jeeny/iago/iago/scripts/content_mindtools_statistics.ipynb#W6sZmlsZQ%3D%3D?line=1'>2</a>\u001b[0m df\u001b[39m.\u001b[39mto_excel(\u001b[39m'\u001b[39m\u001b[39mskill_group_similarity.xlsx\u001b[39m\u001b[39m'\u001b[39m)\n\u001b[0;32m----> <a href='vscode-notebook-cell:/Users/djmango/github/jeeny/iago/iago/scripts/content_mindtools_statistics.ipynb#W6sZmlsZQ%3D%3D?line=2'>3</a>\u001b[0m ax \u001b[39m=\u001b[39m df\u001b[39m.\u001b[39;49mplot\u001b[39m.\u001b[39;49mhist(column\u001b[39m=\u001b[39;49m[\u001b[39m'\u001b[39;49m\u001b[39msimilarities\u001b[39;49m\u001b[39m'\u001b[39;49m], by\u001b[39m=\u001b[39;49m\u001b[39m'\u001b[39;49m\u001b[39mmindtools_skill_group\u001b[39;49m\u001b[39m'\u001b[39;49m, bins\u001b[39m=\u001b[39;49m\u001b[39m20\u001b[39;49m)\n\u001b[1;32m      <a href='vscode-notebook-cell:/Users/djmango/github/jeeny/iago/iago/scripts/content_mindtools_statistics.ipynb#W6sZmlsZQ%3D%3D?line=4'>5</a>\u001b[0m \u001b[39m# Now that we have the grouped results, we can do the analysis\u001b[39;00m\n\u001b[1;32m      <a href='vscode-notebook-cell:/Users/djmango/github/jeeny/iago/iago/scripts/content_mindtools_statistics.ipynb#W6sZmlsZQ%3D%3D?line=5'>6</a>\u001b[0m \u001b[39m# df.to_excel('skill_group_article_count.csv', index=False)\u001b[39;00m\n\u001b[1;32m      <a href='vscode-notebook-cell:/Users/djmango/github/jeeny/iago/iago/scripts/content_mindtools_statistics.ipynb#W6sZmlsZQ%3D%3D?line=7'>8</a>\u001b[0m \u001b[39mprint\u001b[39m(\u001b[39m'\u001b[39m\u001b[39mTotal articles:\u001b[39m\u001b[39m'\u001b[39m, \u001b[39mlen\u001b[39m(contents))\n",
      "File \u001b[0;32m~/miniforge3/envs/jeeny/lib/python3.10/site-packages/pandas/plotting/_core.py:1346\u001b[0m, in \u001b[0;36mPlotAccessor.hist\u001b[0;34m(self, by, bins, **kwargs)\u001b[0m\n\u001b[1;32m   1286\u001b[0m \u001b[39mdef\u001b[39;00m \u001b[39mhist\u001b[39m(\u001b[39mself\u001b[39m, by\u001b[39m=\u001b[39m\u001b[39mNone\u001b[39;00m, bins\u001b[39m=\u001b[39m\u001b[39m10\u001b[39m, \u001b[39m*\u001b[39m\u001b[39m*\u001b[39mkwargs):\n\u001b[1;32m   1287\u001b[0m     \u001b[39m\"\"\"\u001b[39;00m\n\u001b[1;32m   1288\u001b[0m \u001b[39m    Draw one histogram of the DataFrame's columns.\u001b[39;00m\n\u001b[1;32m   1289\u001b[0m \n\u001b[0;32m   (...)\u001b[0m\n\u001b[1;32m   1344\u001b[0m \u001b[39m        >>> ax = df.plot.hist(column=[\"age\"], by=\"gender\", figsize=(10, 8))\u001b[39;00m\n\u001b[1;32m   1345\u001b[0m \u001b[39m    \"\"\"\u001b[39;00m\n\u001b[0;32m-> 1346\u001b[0m     \u001b[39mreturn\u001b[39;00m \u001b[39mself\u001b[39;49m(kind\u001b[39m=\u001b[39;49m\u001b[39m\"\u001b[39;49m\u001b[39mhist\u001b[39;49m\u001b[39m\"\u001b[39;49m, by\u001b[39m=\u001b[39;49mby, bins\u001b[39m=\u001b[39;49mbins, \u001b[39m*\u001b[39;49m\u001b[39m*\u001b[39;49mkwargs)\n",
      "File \u001b[0;32m~/miniforge3/envs/jeeny/lib/python3.10/site-packages/pandas/plotting/_core.py:972\u001b[0m, in \u001b[0;36mPlotAccessor.__call__\u001b[0;34m(self, *args, **kwargs)\u001b[0m\n\u001b[1;32m    969\u001b[0m             label_name \u001b[39m=\u001b[39m label_kw \u001b[39mor\u001b[39;00m data\u001b[39m.\u001b[39mcolumns\n\u001b[1;32m    970\u001b[0m             data\u001b[39m.\u001b[39mcolumns \u001b[39m=\u001b[39m label_name\n\u001b[0;32m--> 972\u001b[0m \u001b[39mreturn\u001b[39;00m plot_backend\u001b[39m.\u001b[39;49mplot(data, kind\u001b[39m=\u001b[39;49mkind, \u001b[39m*\u001b[39;49m\u001b[39m*\u001b[39;49mkwargs)\n",
      "File \u001b[0;32m~/miniforge3/envs/jeeny/lib/python3.10/site-packages/pandas/plotting/_matplotlib/__init__.py:71\u001b[0m, in \u001b[0;36mplot\u001b[0;34m(data, kind, **kwargs)\u001b[0m\n\u001b[1;32m     69\u001b[0m         kwargs[\u001b[39m\"\u001b[39m\u001b[39max\u001b[39m\u001b[39m\"\u001b[39m] \u001b[39m=\u001b[39m \u001b[39mgetattr\u001b[39m(ax, \u001b[39m\"\u001b[39m\u001b[39mleft_ax\u001b[39m\u001b[39m\"\u001b[39m, ax)\n\u001b[1;32m     70\u001b[0m plot_obj \u001b[39m=\u001b[39m PLOT_CLASSES[kind](data, \u001b[39m*\u001b[39m\u001b[39m*\u001b[39mkwargs)\n\u001b[0;32m---> 71\u001b[0m plot_obj\u001b[39m.\u001b[39;49mgenerate()\n\u001b[1;32m     72\u001b[0m plot_obj\u001b[39m.\u001b[39mdraw()\n\u001b[1;32m     73\u001b[0m \u001b[39mreturn\u001b[39;00m plot_obj\u001b[39m.\u001b[39mresult\n",
      "File \u001b[0;32m~/miniforge3/envs/jeeny/lib/python3.10/site-packages/pandas/plotting/_matplotlib/core.py:327\u001b[0m, in \u001b[0;36mMPLPlot.generate\u001b[0;34m(self)\u001b[0m\n\u001b[1;32m    325\u001b[0m \u001b[39mdef\u001b[39;00m \u001b[39mgenerate\u001b[39m(\u001b[39mself\u001b[39m):\n\u001b[1;32m    326\u001b[0m     \u001b[39mself\u001b[39m\u001b[39m.\u001b[39m_args_adjust()\n\u001b[0;32m--> 327\u001b[0m     \u001b[39mself\u001b[39;49m\u001b[39m.\u001b[39;49m_compute_plot_data()\n\u001b[1;32m    328\u001b[0m     \u001b[39mself\u001b[39m\u001b[39m.\u001b[39m_setup_subplots()\n\u001b[1;32m    329\u001b[0m     \u001b[39mself\u001b[39m\u001b[39m.\u001b[39m_make_plot()\n",
      "File \u001b[0;32m~/miniforge3/envs/jeeny/lib/python3.10/site-packages/pandas/plotting/_matplotlib/core.py:506\u001b[0m, in \u001b[0;36mMPLPlot._compute_plot_data\u001b[0;34m(self)\u001b[0m\n\u001b[1;32m    504\u001b[0m \u001b[39m# no non-numeric frames or series allowed\u001b[39;00m\n\u001b[1;32m    505\u001b[0m \u001b[39mif\u001b[39;00m is_empty:\n\u001b[0;32m--> 506\u001b[0m     \u001b[39mraise\u001b[39;00m \u001b[39mTypeError\u001b[39;00m(\u001b[39m\"\u001b[39m\u001b[39mno numeric data to plot\u001b[39m\u001b[39m\"\u001b[39m)\n\u001b[1;32m    508\u001b[0m \u001b[39mself\u001b[39m\u001b[39m.\u001b[39mdata \u001b[39m=\u001b[39m numeric_data\u001b[39m.\u001b[39mapply(\u001b[39mself\u001b[39m\u001b[39m.\u001b[39m_convert_to_ndarray)\n",
      "\u001b[0;31mTypeError\u001b[0m: no numeric data to plot"
     ]
    }
   ],
   "source": [
    "df.to_excel('skill_group_similarity.xlsx')\n",
    "\n",
    "df_flipped = df.filter(['mindtools_skill_group', 'similarities']).T\n",
    "\n",
    "df_flipped.to_excel('skill_group_similarity_flipped.xlsx')\n",
    "\n",
    "ax = df_flipped.plot.hist(column=['similarities'], by='mindtools_skill_group', bins=20)\n",
    "\n",
    "# Now that we have the grouped results, we can do the analysis\n",
    "# df.to_excel('skill_group_article_count.csv', index=False)\n",
    "\n",
    "print('Total articles:', len(contents))"
   ]
  }
 ],
 "metadata": {
  "kernelspec": {
   "display_name": "Python 3.10.5 ('jeeny')",
   "language": "python",
   "name": "python3"
  },
  "language_info": {
   "codemirror_mode": {
    "name": "ipython",
    "version": 3
   },
   "file_extension": ".py",
   "mimetype": "text/x-python",
   "name": "python",
   "nbconvert_exporter": "python",
   "pygments_lexer": "ipython3",
   "version": "3.10.5"
  },
  "orig_nbformat": 4,
  "vscode": {
   "interpreter": {
    "hash": "f65747007422fc81442191dbdb03a12c20c5af11985cea41d471a918ee4e30a8"
   }
  }
 },
 "nbformat": 4,
 "nbformat_minor": 2
}

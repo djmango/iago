{
 "cells": [
  {
   "cell_type": "code",
   "execution_count": null,
   "metadata": {},
   "outputs": [],
   "source": [
    "import header\n",
    "\n",
    "import os\n",
    "from v0.ai import embedding_model\n",
    "from v0.models import UnsplashPhoto\n",
    "\n",
    "os.environ[\"DJANGO_ALLOW_ASYNC_UNSAFE\"] = \"true\"\n"
   ]
  },
  {
   "cell_type": "code",
   "execution_count": null,
   "metadata": {},
   "outputs": [],
   "source": [
    "\n",
    "pics_to_embed = UnsplashPhoto.objects.filter(embedding_all_mpnet_base_v2__isnull=True).exclude(ai_description='')[:50000]\n",
    "pics_to_embed_pk = list(pics_to_embed.values_list('pk', flat=True))\n",
    "print(f'ouits touim to embed {pics_to_embed.count()} poics am i rouight lad')\n",
    "\n",
    "strings_to_embed = list(pics_to_embed.values_list('ai_description', flat=True))\n",
    "\n",
    "embeds = embedding_model.model.encode(strings_to_embed, show_progress_bar=True)\n",
    " "
   ]
  },
  {
   "cell_type": "code",
   "execution_count": null,
   "metadata": {},
   "outputs": [],
   "source": [
    "k = 0\n",
    "embeds = embeds.tolist()\n",
    "\n",
    "# update without loading objects into memory, much faster\n",
    "k = 0\n",
    "for i, pk in enumerate(pics_to_embed_pk):\n",
    "    UnsplashPhoto.objects.filter(pk=pk).update(embedding_all_mpnet_base_v2=embeds[i])\n",
    "    k+=1\n",
    "print(k)"
   ]
  }
 ],
 "metadata": {
  "kernelspec": {
   "display_name": "Python 3.10.4 ('jeeny')",
   "language": "python",
   "name": "python3"
  },
  "language_info": {
   "codemirror_mode": {
    "name": "ipython",
    "version": 3
   },
   "file_extension": ".py",
   "mimetype": "text/x-python",
   "name": "python",
   "nbconvert_exporter": "python",
   "pygments_lexer": "ipython3",
   "version": "3.10.4"
  },
  "orig_nbformat": 4,
  "vscode": {
   "interpreter": {
    "hash": "f65747007422fc81442191dbdb03a12c20c5af11985cea41d471a918ee4e30a8"
   }
  }
 },
 "nbformat": 4,
 "nbformat_minor": 2
}

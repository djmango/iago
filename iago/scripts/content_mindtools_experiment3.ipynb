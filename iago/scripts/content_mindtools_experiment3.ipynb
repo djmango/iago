{
 "cells": [
  {
   "cell_type": "markdown",
   "metadata": {},
   "source": [
    "This experiment is to take each Mindtools skill and match all of our best content from the library to it, and store the scores in a spreadsheet."
   ]
  },
  {
   "cell_type": "code",
   "execution_count": 1,
   "metadata": {},
   "outputs": [
    {
     "name": "stdout",
     "output_type": "stream",
     "text": [
      "DJANGO SETTINGS IN DEBUG\n",
      "[v0.index] 2022-08-29 15:12:38,069 INFO MainThread [index:init_indexes:174] | Initializing indexes..\n",
      "[v0.index] 2022-08-29 15:12:38,070 INFO MainThread [index:init_indexes:204] | 0 indexes specified to be built at startup.\n"
     ]
    }
   ],
   "source": [
    "import header\n",
    "\n",
    "import random\n",
    "import json\n",
    "import numpy as np\n",
    "import pandas as pd\n",
    "from django.db import transaction\n",
    "from tqdm import tqdm\n",
    "from v0.index import VectorIndex\n",
    "from v0.models import Content, MindtoolsSkillGroup"
   ]
  },
  {
   "cell_type": "code",
   "execution_count": 2,
   "metadata": {},
   "outputs": [
    {
     "name": "stdout",
     "output_type": "stream",
     "text": [
      "[v0.VectorIndex_MindtoolsSkillGroup] 2022-08-29 15:12:38,771 INFO MainThread [index:_generate_index:45] | Generated index for MindtoolsSkillGroup with a total of 12 vectors in 0.3882s\n"
     ]
    }
   ],
   "source": [
    "# generate index\n",
    "skill_group_index = VectorIndex(MindtoolsSkillGroup.objects.all())"
   ]
  },
  {
   "cell_type": "code",
   "execution_count": 3,
   "metadata": {},
   "outputs": [
    {
     "name": "stdout",
     "output_type": "stream",
     "text": [
      "(2932, 6)\n",
      "['title', 'uuid', 'mindtools_skill_group', 'embedding_all_mpnet_base_v2', 'provider', 'url', 'Time Management', 'Stress Management', 'Creativity Tools', 'Project Management', 'Strategy Tools', 'Team Management', 'Career Skills', 'Communication Skills', 'Decision Making', 'Problem Solving', 'Learning Skills', 'Leadership Skills']\n"
     ]
    }
   ],
   "source": [
    "# Load content from our database dump\n",
    "df = pd.read_csv('data/content.csv')\n",
    "\n",
    "# df = df[df.provider.eq('hbr')]\n",
    "df = df[df.provider == 'hbr'].reset_index(drop=True).copy()\n",
    "print(df.shape)\n",
    "\n",
    "skill_group_pks = list(MindtoolsSkillGroup.objects.all().values_list('pk', flat=True))\n",
    "\n",
    "# Add the skill groups as columns to store the similarity scores\n",
    "df = df.reindex(columns=list(df.columns) + skill_group_pks)\n",
    "print(list(df.columns))"
   ]
  },
  {
   "cell_type": "code",
   "execution_count": 6,
   "metadata": {},
   "outputs": [
    {
     "name": "stderr",
     "output_type": "stream",
     "text": [
      "100%|██████████| 2932/2932 [00:00<00:00, 22830.25it/s]\n"
     ]
    }
   ],
   "source": [
    "# Do the actual matching batched, much faster\n",
    "query_vectors = np.array([np.array(json.loads(x)).astype(np.float32) for x in df['embedding_all_mpnet_base_v2']]).astype(np.float32)\n",
    "similarity_values, indices = skill_group_index.index.search(query_vectors, k=len(skill_group_pks))\n",
    "\n",
    "for i, indice in tqdm(enumerate(indices), total=len(indices)):\n",
    "    for j, skill_group_indice in enumerate(indice):\n",
    "        df.at[i, skill_group_pks[skill_group_indice]] = similarity_values[i, j]"
   ]
  },
  {
   "cell_type": "code",
   "execution_count": 7,
   "metadata": {},
   "outputs": [],
   "source": [
    "# Store and plot\n",
    "df_pruned = df.filter(['title', 'uuid', 'provider', 'url']+skill_group_pks, axis=1)\n",
    "df_pruned.to_excel('data/mindtools_experiments/mindtools_content_similarity_hbr.xlsx', index=False)"
   ]
  }
 ],
 "metadata": {
  "kernelspec": {
   "display_name": "Python 3.10.5 ('jeeny')",
   "language": "python",
   "name": "python3"
  },
  "language_info": {
   "codemirror_mode": {
    "name": "ipython",
    "version": 3
   },
   "file_extension": ".py",
   "mimetype": "text/x-python",
   "name": "python",
   "nbconvert_exporter": "python",
   "pygments_lexer": "ipython3",
   "version": "3.10.5"
  },
  "orig_nbformat": 4,
  "vscode": {
   "interpreter": {
    "hash": "f65747007422fc81442191dbdb03a12c20c5af11985cea41d471a918ee4e30a8"
   }
  }
 },
 "nbformat": 4,
 "nbformat_minor": 2
}

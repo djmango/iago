{
 "cells": [
  {
   "cell_type": "markdown",
   "metadata": {},
   "source": [
    "This experiment is to take each Mindtools skill and match all of our best content from the library to it, and store the scores in a spreadsheet."
   ]
  },
  {
   "cell_type": "code",
   "execution_count": 9,
   "metadata": {},
   "outputs": [],
   "source": [
    "import header\n",
    "\n",
    "import random\n",
    "import json\n",
    "import numpy as np\n",
    "import pandas as pd\n",
    "from django.db import transaction\n",
    "from tqdm import tqdm\n",
    "from v0.index import VectorIndex\n",
    "from v0.models import Content, MindtoolsSkillGroup"
   ]
  },
  {
   "cell_type": "code",
   "execution_count": 2,
   "metadata": {},
   "outputs": [
    {
     "name": "stdout",
     "output_type": "stream",
     "text": [
      "[v0.VectorIndex_MindtoolsSkillGroup] 2022-08-23 14:18:25,705 INFO MainThread [index:_generate_index:46] | Generated index for MindtoolsSkillGroup with a total of 11 vectors in 0.1061s\n"
     ]
    }
   ],
   "source": [
    "# generate index\n",
    "skill_group_index = VectorIndex(MindtoolsSkillGroup.objects.all())"
   ]
  },
  {
   "cell_type": "code",
   "execution_count": 7,
   "metadata": {},
   "outputs": [
    {
     "name": "stdout",
     "output_type": "stream",
     "text": [
      "['title', 'uuid', 'mindtools_skill_group', 'embedding_all_mpnet_base_v2', 'provider', 'url', 'Time Management', 'Stress Management', 'Creativity Tools', 'Project Management', 'Strategy Tools', 'Team Management', 'Career Skills', 'Communication Skills', 'Decision Making', 'Problem Solving', 'Learning Skills']\n"
     ]
    }
   ],
   "source": [
    "# Load content from our database dump\n",
    "df = pd.read_csv('data/content.csv')\n",
    "\n",
    "skill_group_pks = list(MindtoolsSkillGroup.objects.all().values_list('pk', flat=True))\n",
    "\n",
    "# Add the skill groups as columns to store the similarity scores\n",
    "df = df.reindex(columns=list(df.columns) + skill_group_pks)\n",
    "print(list(df.columns))"
   ]
  },
  {
   "cell_type": "code",
   "execution_count": 14,
   "metadata": {},
   "outputs": [
    {
     "name": "stderr",
     "output_type": "stream",
     "text": [
      "100%|██████████| 11074/11074 [00:01<00:00, 8953.32it/s]\n"
     ]
    }
   ],
   "source": [
    "# Do the actual matching batched, much faster\n",
    "query_vectors = np.array([np.array(json.loads(x)).astype(np.float32) for x in df['embedding_all_mpnet_base_v2']]).astype(np.float32)\n",
    "similarity_values, indices = skill_group_index.index.search(query_vectors, k=len(skill_group_pks))\n",
    "\n",
    "for i, indice in tqdm(enumerate(indices), total=len(indices)):\n",
    "    for j, pk in enumerate(skill_group_pks):\n",
    "        df.at[i, pk] = similarity_values[i, j]"
   ]
  },
  {
   "cell_type": "code",
   "execution_count": 18,
   "metadata": {},
   "outputs": [],
   "source": [
    "# Store and plot\n",
    "df_pruned = df.filter(['title', 'uuid', 'provider', 'url']+skill_group_pks, axis=1)\n",
    "df.to_excel('data/mindtools_experiments/mindtools_content_similarity_full.xlsx', index=False)\n",
    "df_pruned.to_excel('data/mindtools_experiments/mindtools_content_similarity_pruned.xlsx', index=False)"
   ]
  }
 ],
 "metadata": {
  "kernelspec": {
   "display_name": "Python 3.10.5 ('jeeny')",
   "language": "python",
   "name": "python3"
  },
  "language_info": {
   "codemirror_mode": {
    "name": "ipython",
    "version": 3
   },
   "file_extension": ".py",
   "mimetype": "text/x-python",
   "name": "python",
   "nbconvert_exporter": "python",
   "pygments_lexer": "ipython3",
   "version": "3.10.5"
  },
  "orig_nbformat": 4,
  "vscode": {
   "interpreter": {
    "hash": "f65747007422fc81442191dbdb03a12c20c5af11985cea41d471a918ee4e30a8"
   }
  }
 },
 "nbformat": 4,
 "nbformat_minor": 2
}

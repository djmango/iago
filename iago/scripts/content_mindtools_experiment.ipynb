{
 "cells": [
  {
   "cell_type": "code",
   "execution_count": 1,
   "metadata": {},
   "outputs": [
    {
     "name": "stdout",
     "output_type": "stream",
     "text": [
      "DJANGO SETTINGS IN DEBUG\n",
      "[v0.index] 2022-08-18 14:29:07,190 INFO MainThread [index:init_indexes:167] | Initializing indexes..\n",
      "[v0.index] 2022-08-18 14:29:07,761 INFO MainThread [index:init_indexes:195] | No indexes to build\n"
     ]
    }
   ],
   "source": [
    "import header\n",
    "\n",
    "import random\n",
    "import numpy as np\n",
    "import pandas as pd\n",
    "from django.db import transaction\n",
    "from tqdm import tqdm\n",
    "from v0.index import VectorIndex\n",
    "from v0.models import Content, MindtoolsSkillGroup, MindtoolsSkillSubgroup"
   ]
  },
  {
   "cell_type": "code",
   "execution_count": 2,
   "metadata": {},
   "outputs": [
    {
     "name": "stdout",
     "output_type": "stream",
     "text": [
      "[v0.VectorIndex_MindtoolsSkillSubgroup] 2022-08-18 14:29:08,207 INFO MainThread [index:_generate_index:46] | Generated index for MindtoolsSkillSubgroup with a total of 87 vectors in 0.1793s\n",
      "[v0.VectorIndex_MindtoolsSkillGroup] 2022-08-18 14:29:08,259 INFO MainThread [index:_generate_index:46] | Generated index for MindtoolsSkillGroup with a total of 11 vectors in 0.0307s\n"
     ]
    }
   ],
   "source": [
    "# generate index\n",
    "skill_subgroup_index = VectorIndex(MindtoolsSkillSubgroup.objects.all())\n",
    "skill_group_index = VectorIndex(MindtoolsSkillGroup.objects.all())"
   ]
  },
  {
   "cell_type": "code",
   "execution_count": 31,
   "metadata": {},
   "outputs": [
    {
     "name": "stdout",
     "output_type": "stream",
     "text": [
      "59717\n"
     ]
    }
   ],
   "source": [
    "contents = list(Content.objects.exclude(embedding_all_mpnet_base_v2__isnull=True).values_list('pk', 'embedding_all_mpnet_base_v2'))\n",
    "content_pks, content_embeddings = zip(*contents)\n",
    "print(len(contents))"
   ]
  },
  {
   "cell_type": "code",
   "execution_count": 32,
   "metadata": {},
   "outputs": [],
   "source": [
    "# Do the actual matching batched, much faster\n",
    "query_vectors = np.array([np.array(x[1]).astype(np.float32) for x in contents]).astype(np.float32)\n",
    "values, indices = skill_group_index.index.search(query_vectors, k=1)\n",
    "skill_group_results_pk = [skill_group_index.pks[indice[0]] for indice in indices]"
   ]
  },
  {
   "cell_type": "code",
   "execution_count": 38,
   "metadata": {},
   "outputs": [
    {
     "name": "stdout",
     "output_type": "stream",
     "text": [
      "Time Management: 5402 articles\n",
      "Stress Management: 2120 articles\n",
      "Creativity Tools: 6482 articles\n",
      "Project Management: 4681 articles\n",
      "Strategy Tools: 7144 articles\n",
      "Team Management: 12013 articles\n",
      "Career Skills: 8151 articles\n",
      "Communication Skills: 5777 articles\n",
      "Decision Making: 4257 articles\n",
      "Problem Solving: 2803 articles\n",
      "Learning Skills: 887 articles\n",
      "Total articles: 59717\n"
     ]
    }
   ],
   "source": [
    "# group for faster updates\n",
    "skill_group_pks = list(MindtoolsSkillGroup.objects.all().values_list('pk', flat=True))\n",
    "\n",
    "results_grouped = dict.fromkeys(skill_group_pks)\n",
    "\n",
    "df = pd.DataFrame(columns=['Mindtools Skill Group', 'Article Count'])\n",
    "\n",
    "for skill_group_pk in skill_group_pks:\n",
    "    results_grouped[skill_group_pk] = [content_pks[i] for i, value in enumerate(skill_group_results_pk) if value == skill_group_pk]\n",
    "    print(f'{skill_group_pk}: {len(results_grouped[skill_group_pk])} articles')\n",
    "    df.loc[skill_group_pk] = [skill_group_pk, len(results_grouped[skill_group_pk])]\n",
    "\n",
    "df.to_csv('data/mindtools_experiments/skill_group_article_count.csv', index=False)\n",
    "\n",
    "print('Total articles:', len(contents))"
   ]
  },
  {
   "cell_type": "code",
   "execution_count": 36,
   "metadata": {},
   "outputs": [
    {
     "name": "stderr",
     "output_type": "stream",
     "text": [
      "100%|██████████| 11/11 [00:12<00:00,  1.09s/it]\n"
     ]
    }
   ],
   "source": [
    "for i, skill_group_pk in tqdm(enumerate(skill_group_pks), total=len(skill_group_pks)):\n",
    "    updated_count = Content.objects.filter(pk__in=results_grouped[skill_group_pk]).update(mindtools_skill_group=skill_group_pk)"
   ]
  }
 ],
 "metadata": {
  "kernelspec": {
   "display_name": "Python 3.10.5 ('jeeny')",
   "language": "python",
   "name": "python3"
  },
  "language_info": {
   "codemirror_mode": {
    "name": "ipython",
    "version": 3
   },
   "file_extension": ".py",
   "mimetype": "text/x-python",
   "name": "python",
   "nbconvert_exporter": "python",
   "pygments_lexer": "ipython3",
   "version": "3.10.5"
  },
  "orig_nbformat": 4,
  "vscode": {
   "interpreter": {
    "hash": "f65747007422fc81442191dbdb03a12c20c5af11985cea41d471a918ee4e30a8"
   }
  }
 },
 "nbformat": 4,
 "nbformat_minor": 2
}

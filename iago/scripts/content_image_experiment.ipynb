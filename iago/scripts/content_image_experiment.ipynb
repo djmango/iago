{
 "cells": [
  {
   "cell_type": "code",
   "execution_count": null,
   "metadata": {},
   "outputs": [],
   "source": [
    "import header\n",
    "from v0.models import Image, Content\n",
    "from v0.index import image_index\n",
    "import pandas as pd\n",
    "import random\n",
    "import imquality.brisque as brisque\n",
    "from PIL import Image\n",
    "import requests\n",
    "import urllib.parse"
   ]
  },
  {
   "cell_type": "markdown",
   "metadata": {},
   "source": []
  },
  {
   "cell_type": "code",
   "execution_count": null,
   "metadata": {},
   "outputs": [],
   "source": [
    "# get 100 random content\n",
    "random_pks = random.sample(list(Content.objects.exclude(thumbnail='https://miro.medium.com/').values_list('pk', flat=True)), 100)\n",
    "contents = Content.objects.filter(pk__in=random_pks)\n"
   ]
  },
  {
   "cell_type": "code",
   "execution_count": null,
   "metadata": {},
   "outputs": [],
   "source": [
    "rows = []\n",
    "url = f'https://api.apilayer.com/image_quality/url?url='\n",
    "headers = {'apikey': 'myusi6zK4HKqiSUllMVp152hqq0al8C1'}\n",
    "MAX_SIZE = (500, 500)\n",
    "\n",
    "for content in contents:\n",
    "    try:\n",
    "        content: Content\n",
    "        content_row = {'article_url': content.url, 'original_img': content.thumbnail}\n",
    "\n",
    "        # get new image via image_index\n",
    "        results = image_index.query(content.embedding_all_mpnet_base_v2, k=1)\n",
    "        new_img = results[0][0]\n",
    "        content_row['new_img'] = new_img.url\n",
    "        content_row['new_old_semantic_similarity'] = results[1][0][1]\n",
    "\n",
    "        # apply brisque to both new and old images\n",
    "        # r = requests.get(url + urllib.parse.quote(content.thumbnail), headers=headers)\n",
    "        # content_row['original_image_brisque'] = r.json()['score']\n",
    "        ardvark = Image.open(requests.get(content.thumbnail, timeout=3, stream=True).raw)\n",
    "        ardvark.thumbnail(MAX_SIZE)\n",
    "        content_row['original_img_brisque'] = brisque.score(ardvark)\n",
    "\n",
    "        # r = requests.get(url + urllib.parse.quote(new_img.url), headers=headers)\n",
    "        # content_row['new_img_brisque'] = r.json()['score']\n",
    "        ardvark = Image.open(requests.get(new_img.url, timeout=3, stream=True).raw)\n",
    "        ardvark.thumbnail(MAX_SIZE)\n",
    "        content_row['new_img_brisque'] = brisque.score(ardvark)\n",
    "\n",
    "        rows.append(content_row)\n",
    "    except Exception as e:\n",
    "        print(e)\n",
    "\n",
    "df = pd.DataFrame(rows, columns=['article_url', 'original_img', 'original_img_brisque', 'new_img', 'new_img_brisque', 'new_old_semantic_similarity'])\n",
    "df.to_csv('image_experiment.csv', index=False)"
   ]
  }
 ],
 "metadata": {
  "interpreter": {
   "hash": "f65747007422fc81442191dbdb03a12c20c5af11985cea41d471a918ee4e30a8"
  },
  "kernelspec": {
   "display_name": "Python 3.9.10 ('jeeny')",
   "language": "python",
   "name": "python3"
  },
  "language_info": {
   "codemirror_mode": {
    "name": "ipython",
    "version": 3
   },
   "file_extension": ".py",
   "mimetype": "text/x-python",
   "name": "python",
   "nbconvert_exporter": "python",
   "pygments_lexer": "ipython3",
   "version": "3.10.4"
  },
  "orig_nbformat": 4
 },
 "nbformat": 4,
 "nbformat_minor": 2
}
